{
 "cells": [
  {
   "cell_type": "code",
   "execution_count": null,
   "id": "e14f6283",
   "metadata": {},
   "outputs": [],
   "source": [
    "# -----------------------------------------------\n",
    "# 1. Import Libraries\n",
    "# -----------------------------------------------\n",
    "import pandas as pd\n",
    "import numpy as np"
   ]
  },
  {
   "cell_type": "code",
   "execution_count": null,
   "id": "e5e7a632",
   "metadata": {},
   "outputs": [],
   "source": [
    "# -----------------------------------------------\n",
    "# 2. Load and Explore Dataset\n",
    "# -----------------------------------------------\n",
    "# NOTE: Replace 'product_usage.csv' with your actual CSV file name\n",
    "df = pd.read_csv(\"product_usage.csv\")\n",
    "\n",
    "print(\"📌 First 5 rows of the dataset:\")\n",
    "print(df.head())\n",
    "\n",
    "print(\"\\n📌 Dataset Info:\")\n",
    "print(df.info())\n",
    "\n",
    "print(\"\\n📌 Summary Statistics:\")\n",
    "print(df.describe(include='all'))"
   ]
  },
  {
   "cell_type": "code",
   "execution_count": null,
   "id": "add04019",
   "metadata": {},
   "outputs": [],
   "source": [
    "# -----------------------------------------------\n",
    "# 3. Clean and Prepare the Data\n",
    "# -----------------------------------------------\n",
    "\n",
    "# Example: Rename ambiguous columns (edit based on actual column names)\n",
    "df.rename(columns={\n",
    "    'uid': 'user_id',\n",
    "    'ts': 'timestamp',\n",
    "    'feat': 'feature_used'\n",
    "}, inplace=True)\n",
    "\n",
    "# Check and handle missing values\n",
    "print(\"\\n📌 Missing Values Before Cleaning:\")\n",
    "print(df.isnull().sum())\n",
    "\n",
    "# Drop rows with missing data\n",
    "df.dropna(inplace=True)\n",
    "\n",
    "# Convert timestamp to datetime\n",
    "df['timestamp'] = pd.to_datetime(df['timestamp'])\n",
    "\n",
    "# Check data types\n",
    "print(\"\\n📌 Updated Data Types:\")\n",
    "print(df.dtypes)"
   ]
  },
  {
   "cell_type": "code",
   "execution_count": null,
   "id": "2371e2fe",
   "metadata": {},
   "outputs": [],
   "source": [
    "# -----------------------------------------------\n",
    "# 4. Analyze Feature Usage\n",
    "# -----------------------------------------------\n",
    "\n",
    "# Total feature usage count\n",
    "feature_counts = df['feature_used'].value_counts().reset_index()\n",
    "feature_counts.columns = ['feature', 'total_usage']\n",
    "\n",
    "# Average usage per user\n",
    "avg_usage = df.groupby(['user_id', 'feature_used']).size().groupby('feature_used').mean().reset_index()\n",
    "avg_usage.columns = ['feature', 'avg_usage_per_user']\n",
    "\n",
    "# Merge the two summaries\n",
    "summary = pd.merge(feature_counts, avg_usage, on='feature')\n",
    "\n",
    "print(\"\\n📌 Feature Usage Summary Table:\")\n",
    "print(summary)"
   ]
  },
  {
   "cell_type": "code",
   "execution_count": null,
   "id": "8630f2d9",
   "metadata": {},
   "outputs": [],
   "source": [
    "# -----------------------------------------------\n",
    "# 5. Visualization (Optional)\n",
    "# -----------------------------------------------\n",
    "import matplotlib.pyplot as plt\n",
    "\n",
    "plt.figure(figsize=(10,6))\n",
    "plt.bar(summary['feature'], summary['total_usage'], color='lightblue')\n",
    "plt.title(\"📊 Total Feature Usage\")\n",
    "plt.xlabel(\"Feature\")\n",
    "plt.ylabel(\"Usage Count\")\n",
    "plt.xticks(rotation=45)\n",
    "plt.tight_layout()\n",
    "plt.show()"
   ]
  },
  {
   "cell_type": "code",
   "execution_count": null,
   "id": "62da9788",
   "metadata": {},
   "outputs": [],
   "source": [
    "# -----------------------------------------------\n",
    "# 6. Markdown Summary (Written observations)\n",
    "# -----------------------------------------------\n",
    "from IPython.display import display, Markdown\n",
    "\n",
    "display(Markdown(\"## 💡 Summary Insights\"))\n",
    "display(Markdown(f\"- Total unique features: **{df['feature_used'].nunique()}**\"))\n",
    "display(Markdown(f\"- Total unique users: **{df['user_id'].nunique()}**\"))\n",
    "top_feature = summary.loc[summary['total_usage'].idxmax()]\n",
    "display(Markdown(f\"- **Most Used Feature**: `{top_feature['feature']}` with `{top_feature['total_usage']}` uses\"))"
   ]
  }
 ],
 "metadata": {},
 "nbformat": 4,
 "nbformat_minor": 5
}