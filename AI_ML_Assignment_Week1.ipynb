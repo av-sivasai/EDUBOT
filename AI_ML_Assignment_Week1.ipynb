{
 "cells": [
  {
   "cell_type": "markdown",
   "id": "8f928720",
   "metadata": {},
   "source": [
    "# Week 1 Assignment 1: Exploring the Landscape of AI & ML in Society"
   ]
  },
  {
   "cell_type": "markdown",
   "id": "d91e73f5",
   "metadata": {},
   "source": [
    "\n",
    "## 1. A Quick Look at the Journey of AI & ML\n",
    "\n",
    "Artificial Intelligence, or AI, began as an idea in the 1950s. Alan Turing asked a big question: \"Can machines think?\" This led to the famous Turing Test. In 1956, the term \"AI\" was officially born at the Dartmouth Conference. Over time, AI grew through ups and downs—from logic-based systems in the 60s, to expert systems in the 80s, and the rise of machine learning (ML) in the 90s. The 2000s brought deep learning, which made things like self-driving cars and voice assistants possible.\n",
    "\n",
    "**Big Moments in AI:**\n",
    "- 1950: Turing Test introduced\n",
    "- 1956: The birth of AI at the Dartmouth Conference\n",
    "- 1997: IBM’s Deep Blue beats chess champ Garry Kasparov\n",
    "- 2011: Watson wins Jeopardy!\n",
    "- 2016: AlphaGo defeats Go master Lee Sedol\n"
   ]
  },
  {
   "cell_type": "markdown",
   "id": "eeedf09f",
   "metadata": {},
   "source": [
    "\n",
    "## 2. How AI & ML Are Helping Us Today\n",
    "\n",
    "- **Healthcare:** AI helps doctors spot diseases early, like finding tumors in scans.\n",
    "- **Finance:** Banks use ML to catch fraud fast and protect our money.\n",
    "- **Retail:** Online stores suggest items you might like, thanks to AI.\n",
    "- **Transport:** Self-driving cars use AI to make smart driving decisions.\n",
    "- **Manufacturing:** Factories use ML to predict and prevent machine failures.\n"
   ]
  },
  {
   "cell_type": "markdown",
   "id": "2386a707",
   "metadata": {},
   "source": [
    "\n",
    "## 3. What Should We Worry About?\n",
    "\n",
    "AI is powerful, but it’s not perfect. It can show bias if trained on unfair data. It needs lots of personal data, raising privacy issues. And yes, it might replace some jobs. But we can reduce the risks by using fair data, keeping AI systems transparent, and helping people learn new skills.\n"
   ]
  },
  {
   "cell_type": "markdown",
   "id": "05b881bb",
   "metadata": {},
   "source": [
    "\n",
    "## 4. How Machines Learn\n",
    "\n",
    "- **Supervised Learning:** Like learning with a teacher. We give examples with answers. (e.g., predicting house prices)\n",
    "- **Unsupervised Learning:** The machine finds patterns on its own. (e.g., grouping customers by habits)\n",
    "- **Reinforcement Learning:** Learning by trial and error. (e.g., training a robot to walk)\n"
   ]
  },
  {
   "cell_type": "code",
   "execution_count": null,
   "id": "81358ba8",
   "metadata": {},
   "outputs": [],
   "source": [
    "\n",
    "# A Tiny Python Example: Linear Regression\n",
    "import numpy as np\n",
    "from sklearn.linear_model import LinearRegression\n",
    "\n",
    "X = np.array([[1], [2], [3], [4], [5]])\n",
    "y = np.array([2, 4, 6, 8, 10])\n",
    "model = LinearRegression().fit(X, y)\n",
    "print(\"Prediction for 6:\", model.predict([[6]]))\n"
   ]
  },
  {
   "cell_type": "markdown",
   "id": "1e2d0b7b",
   "metadata": {},
   "source": [
    "\n",
    "## 5. How AI Projects Work (The ML Pipeline)\n",
    "\n",
    "1. **Collect Data:** Get the right data from the right places.\n",
    "2. **Prepare It:** Clean it up, remove errors, and format it.\n",
    "3. **Train the Model:** Let the machine learn from the data.\n",
    "4. **Evaluate:** Test how well it works.\n",
    "5. **Deploy:** Use it in a real-world app or system.\n",
    "6. **Monitor:** Keep an eye on it and improve over time.\n",
    "\n",
    "**Challenges?**\n",
    "Getting clean data, choosing the right model, and making sure it keeps working well as things change.\n",
    "\n",
    "---\n",
    "\n",
    "This notebook gives a beginner-friendly overview of how AI and ML are changing our world. With the right care, they can help us solve big problems and improve lives.\n"
   ]
  }
 ],
 "metadata": {},
 "nbformat": 4,
 "nbformat_minor": 5
}