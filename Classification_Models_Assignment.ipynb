{
 "cells": [
  {
   "cell_type": "markdown",
   "id": "411ac890",
   "metadata": {},
   "source": [
    "# Developing and Evaluating Classification Models\n",
    "Automated classification task using Logistic Regression, k-NN, and Decision Tree.\n",
    "Dataset: Breast Cancer (binary classification).\n",
    "\n",
    "---"
   ]
  },
  {
   "cell_type": "code",
   "execution_count": null,
   "id": "dfa5efa0",
   "metadata": {},
   "outputs": [],
   "source": [
    "import pandas as pd\n",
    "import numpy as np\n",
    "import matplotlib.pyplot as plt\n",
    "from sklearn.datasets import load_breast_cancer\n",
    "from sklearn.model_selection import train_test_split\n",
    "from sklearn.preprocessing import StandardScaler\n",
    "from sklearn.linear_model import LogisticRegression\n",
    "from sklearn.neighbors import KNeighborsClassifier\n",
    "from sklearn.tree import DecisionTreeClassifier\n",
    "from sklearn.metrics import confusion_matrix, classification_report, accuracy_score, precision_score, recall_score, f1_score, roc_curve, auc\n",
    "import seaborn as sns\n",
    "sns.set(style='whitegrid')"
   ]
  },
  {
   "cell_type": "markdown",
   "id": "def65f60",
   "metadata": {},
   "source": [
    "## 1️⃣ Data Loading and Preparation"
   ]
  },
  {
   "cell_type": "code",
   "execution_count": null,
   "id": "e43b6812",
   "metadata": {},
   "outputs": [],
   "source": [
    "# Load dataset\n",
    "data = load_breast_cancer()\n",
    "X = pd.DataFrame(data.data, columns=data.feature_names)\n",
    "y = pd.Series(data.target)\n",
    "\n",
    "# Check for missing values\n",
    "print(X.isnull().sum().sum())\n",
    "\n",
    "# Train-test split\n",
    "X_train, X_test, y_train, y_test = train_test_split(X, y, test_size=0.2, random_state=42)\n",
    "\n",
    "# Scaling\n",
    "scaler = StandardScaler()\n",
    "X_train_scaled = scaler.fit_transform(X_train)\n",
    "X_test_scaled = scaler.transform(X_test)"
   ]
  },
  {
   "cell_type": "markdown",
   "id": "f13a3f53",
   "metadata": {},
   "source": [
    "## 2️⃣ Model Building"
   ]
  },
  {
   "cell_type": "code",
   "execution_count": null,
   "id": "02b83d76",
   "metadata": {},
   "outputs": [],
   "source": [
    "# Logistic Regression\n",
    "lr = LogisticRegression(max_iter=1000)\n",
    "lr.fit(X_train_scaled, y_train)\n",
    "y_pred_lr = lr.predict(X_test_scaled)\n",
    "\n",
    "# k-NN (k=5)\n",
    "knn = KNeighborsClassifier(n_neighbors=5)\n",
    "knn.fit(X_train_scaled, y_train)\n",
    "y_pred_knn = knn.predict(X_test_scaled)\n",
    "\n",
    "# Decision Tree\n",
    "dt = DecisionTreeClassifier(random_state=42)\n",
    "dt.fit(X_train, y_train)\n",
    "y_pred_dt = dt.predict(X_test)"
   ]
  },
  {
   "cell_type": "markdown",
   "id": "d5b3a374",
   "metadata": {},
   "source": [
    "## 3️⃣ Model Evaluation"
   ]
  },
  {
   "cell_type": "code",
   "execution_count": null,
   "id": "c87d5073",
   "metadata": {},
   "outputs": [],
   "source": [
    "def evaluate_model(y_true, y_pred, model_name):\n",
    "    print(f'--- {model_name} ---')\n",
    "    print('Confusion Matrix:')\n",
    "    cm = confusion_matrix(y_true, y_pred)\n",
    "    print(cm)\n",
    "    sns.heatmap(cm, annot=True, fmt='d', cmap='Blues')\n",
    "    plt.title(f'Confusion Matrix - {model_name}')\n",
    "    plt.xlabel('Predicted')\n",
    "    plt.ylabel('Actual')\n",
    "    plt.show()\n",
    "    print('\\nClassification Report:')\n",
    "    print(classification_report(y_true, y_pred))\n",
    "    print(f'Accuracy: {accuracy_score(y_true, y_pred):.4f}')\n",
    "    print(f'Precision: {precision_score(y_true, y_pred):.4f}')\n",
    "    print(f'Recall: {recall_score(y_true, y_pred):.4f}')\n",
    "    print(f'F1 Score: {f1_score(y_true, y_pred):.4f}')\n",
    "\n",
    "evaluate_model(y_test, y_pred_lr, 'Logistic Regression')\n",
    "evaluate_model(y_test, y_pred_knn, 'k-NN')\n",
    "evaluate_model(y_test, y_pred_dt, 'Decision Tree')"
   ]
  },
  {
   "cell_type": "markdown",
   "id": "7eb7e82f",
   "metadata": {},
   "source": [
    "## 4️⃣ ROC-AUC Curve Analysis"
   ]
  },
  {
   "cell_type": "code",
   "execution_count": null,
   "id": "71cd8fa6",
   "metadata": {},
   "outputs": [],
   "source": [
    "# Compute probabilities\n",
    "y_prob_lr = lr.predict_proba(X_test_scaled)[:,1]\n",
    "y_prob_knn = knn.predict_proba(X_test_scaled)[:,1]\n",
    "y_prob_dt = dt.predict_proba(X_test)[:,1]\n",
    "\n",
    "# Compute ROC curves\n",
    "fpr_lr, tpr_lr, _ = roc_curve(y_test, y_prob_lr)\n",
    "fpr_knn, tpr_knn, _ = roc_curve(y_test, y_prob_knn)\n",
    "fpr_dt, tpr_dt, _ = roc_curve(y_test, y_prob_dt)\n",
    "\n",
    "# Compute AUC\n",
    "auc_lr = auc(fpr_lr, tpr_lr)\n",
    "auc_knn = auc(fpr_knn, tpr_knn)\n",
    "auc_dt = auc(fpr_dt, tpr_dt)\n",
    "\n",
    "# Plot\n",
    "plt.figure(figsize=(8,6))\n",
    "plt.plot(fpr_lr, tpr_lr, label=f'Logistic Regression (AUC = {auc_lr:.2f})')\n",
    "plt.plot(fpr_knn, tpr_knn, label=f'k-NN (AUC = {auc_knn:.2f})')\n",
    "plt.plot(fpr_dt, tpr_dt, label=f'Decision Tree (AUC = {auc_dt:.2f})')\n",
    "plt.plot([0,1], [0,1], 'k--')\n",
    "plt.xlabel('False Positive Rate')\n",
    "plt.ylabel('True Positive Rate')\n",
    "plt.title('ROC Curves for Classifiers')\n",
    "plt.legend()\n",
    "plt.show()"
   ]
  },
  {
   "cell_type": "markdown",
   "id": "6aa9d923",
   "metadata": {},
   "source": [
    "## 5️⃣ Summary and Recommendation"
   ]
  },
  {
   "cell_type": "code",
   "execution_count": null,
   "id": "d1f00e38",
   "metadata": {},
   "outputs": [],
   "source": [
    "summary = pd.DataFrame({\n",
    "    'Model': ['Logistic Regression', 'k-NN', 'Decision Tree'],\n",
    "    'Accuracy': [\n",
    "        accuracy_score(y_test, y_pred_lr),\n",
    "        accuracy_score(y_test, y_pred_knn),\n",
    "        accuracy_score(y_test, y_pred_dt)\n",
    "    ],\n",
    "    'Precision': [\n",
    "        precision_score(y_test, y_pred_lr),\n",
    "        precision_score(y_test, y_pred_knn),\n",
    "        precision_score(y_test, y_pred_dt)\n",
    "    ],\n",
    "    'Recall': [\n",
    "        recall_score(y_test, y_pred_lr),\n",
    "        recall_score(y_test, y_pred_knn),\n",
    "        recall_score(y_test, y_pred_dt)\n",
    "    ],\n",
    "    'F1 Score': [\n",
    "        f1_score(y_test, y_pred_lr),\n",
    "        f1_score(y_test, y_pred_knn),\n",
    "        f1_score(y_test, y_pred_dt)\n",
    "    ],\n",
    "    'ROC AUC': [auc_lr, auc_knn, auc_dt]\n",
    "})\n",
    "\n",
    "display(summary)"
   ]
  },
  {
   "cell_type": "markdown",
   "id": "f791150c",
   "metadata": {},
   "source": [
    "**Observations:**\n",
    "- Logistic Regression typically offers stable and interpretable results.\n",
    "- k-NN may be sensitive to feature scaling and k choice but often performs well.\n",
    "- Decision Tree provides interpretability but may overfit.\n",
    "\n",
    "**Recommendation:** Use Logistic Regression for its stable performance and highest ROC-AUC unless the task specifically requires interpretability from tree structures."
   ]
  }
 ],
 "metadata": {},
 "nbformat": 4,
 "nbformat_minor": 5
}
