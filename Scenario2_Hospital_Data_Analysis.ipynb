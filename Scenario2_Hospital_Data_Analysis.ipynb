{
 "cells": [
  {
   "cell_type": "code",
   "execution_count": null,
   "id": "c6a3479b",
   "metadata": {},
   "outputs": [],
   "source": [
    "# -----------------------------------------------\n",
    "# 1. Import Libraries and Load Dataset\n",
    "# -----------------------------------------------\n",
    "import pandas as pd\n",
    "import numpy as np\n",
    "\n",
    "# NOTE: Replace 'patient_data.csv' with your actual CSV file name\n",
    "df = pd.read_csv(\"patient_data.csv\")\n",
    "\n",
    "print(\"📌 First 5 rows:\")\n",
    "print(df.head())\n",
    "\n",
    "print(\"\\n📌 Dataset Info:\")\n",
    "print(df.info())\n",
    "\n",
    "print(\"\\n📌 Summary Statistics:\")\n",
    "print(df.describe(include='all'))"
   ]
  },
  {
   "cell_type": "code",
   "execution_count": null,
   "id": "70f88523",
   "metadata": {},
   "outputs": [],
   "source": [
    "# -----------------------------------------------\n",
    "# 2. Explore and Summarize Demographics\n",
    "# -----------------------------------------------\n",
    "\n",
    "# Age distribution\n",
    "print(\"📌 Age Distribution:\")\n",
    "print(df['age'].describe())\n",
    "\n",
    "# Gender distribution\n",
    "print(\"\\n📌 Gender Distribution:\")\n",
    "print(df['gender'].value_counts())\n",
    "\n",
    "# Department admissions\n",
    "print(\"\\n📌 Admissions per Department:\")\n",
    "print(df['department'].value_counts())"
   ]
  },
  {
   "cell_type": "code",
   "execution_count": null,
   "id": "8e93da4e",
   "metadata": {},
   "outputs": [],
   "source": [
    "# -----------------------------------------------\n",
    "# 3. Aggregate Key Statistics\n",
    "# -----------------------------------------------\n",
    "\n",
    "# Admissions by department\n",
    "dept_admissions = df.groupby('department').size().reset_index(name='admissions_count')\n",
    "\n",
    "# Average stay length\n",
    "avg_stay = df['length_of_stay'].mean()\n",
    "\n",
    "print(\"📌 Department Admissions:\n",
    "\", dept_admissions)\n",
    "print(f\"\\n📌 Average Length of Stay: {avg_stay:.2f} days\")"
   ]
  },
  {
   "cell_type": "code",
   "execution_count": null,
   "id": "8f8d8022",
   "metadata": {},
   "outputs": [],
   "source": [
    "# -----------------------------------------------\n",
    "# 4. Data Cleaning\n",
    "# -----------------------------------------------\n",
    "\n",
    "# Check for missing values\n",
    "print(\"📌 Missing Values:\")\n",
    "print(df.isnull().sum())\n",
    "\n",
    "# Fill missing values\n",
    "df['length_of_stay'].fillna(df['length_of_stay'].mean(), inplace=True)\n",
    "\n",
    "# Convert categorical columns\n",
    "df['gender'] = df['gender'].astype('category')\n",
    "df['department'] = df['department'].astype('category')\n",
    "\n",
    "print(\"\\n📌 Updated Data Types:\")\n",
    "print(df.dtypes)"
   ]
  },
  {
   "cell_type": "code",
   "execution_count": null,
   "id": "3aefa833",
   "metadata": {},
   "outputs": [],
   "source": [
    "# -----------------------------------------------\n",
    "# 5. Document Findings (Markdown)\n",
    "# -----------------------------------------------\n",
    "from IPython.display import display, Markdown\n",
    "\n",
    "display(Markdown(\"## 🏥 Hospital Data Summary\"))\n",
    "display(Markdown(f\"- Total patients: **{len(df)}**\"))\n",
    "display(Markdown(f\"- Unique departments: **{df['department'].nunique()}**\"))\n",
    "display(Markdown(f\"- Average stay duration: **{df['length_of_stay'].mean():.2f}** days\"))\n",
    "display(Markdown(\"- Gender breakdown and age distribution analyzed.\"))\n",
    "display(Markdown(\"- Missing values handled and data cleaned.\"))"
   ]
  }
 ],
 "metadata": {},
 "nbformat": 4,
 "nbformat_minor": 5
}